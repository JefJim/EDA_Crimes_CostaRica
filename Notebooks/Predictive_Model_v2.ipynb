{
 "cells": [
  {
   "cell_type": "markdown",
   "id": "5f68662d",
   "metadata": {},
   "source": [
    "# 🔍 Predictive Model v2 - Crime Classification in Costa Rica"
   ]
  },
  {
   "cell_type": "markdown",
   "id": "55b1042b",
   "metadata": {},
   "source": [
    "\n",
    "Este notebook mejora el modelo anterior aplicando:\n",
    "- Feature engineering (mes, día de semana, temporada, fin de semana, etc.)\n",
    "- Balanceo de clases (`class_weight='balanced'`)\n",
    "- Codificación con OneHotEncoder\n",
    "- Evaluación con clasificación cruzada (cross-validation)\n",
    "- Matriz de confusión\n",
    "- Visualización de importancia de variables\n"
   ]
  },
  {
   "cell_type": "code",
   "execution_count": 1,
   "id": "d6a46e9a",
   "metadata": {},
   "outputs": [],
   "source": [
    "\n",
    "import pandas as pd\n",
    "import numpy as np\n",
    "from sklearn.model_selection import train_test_split, cross_val_score\n",
    "from sklearn.ensemble import RandomForestClassifier\n",
    "from sklearn.preprocessing import OneHotEncoder\n",
    "from sklearn.compose import ColumnTransformer\n",
    "from sklearn.metrics import classification_report, confusion_matrix, ConfusionMatrixDisplay\n",
    "import matplotlib.pyplot as plt\n"
   ]
  },
  {
   "cell_type": "code",
   "execution_count": 2,
   "id": "0910e4b8",
   "metadata": {},
   "outputs": [],
   "source": [
    "\n",
    "df = pd.read_csv(\"../Datasets/crimenes_2020_2021_2022.csv\")\n",
    "df['CRIMEN_FECHA'] = pd.to_datetime(df['CRIMEN_FECHA'], dayfirst=True)\n"
   ]
  },
  {
   "cell_type": "code",
   "execution_count": 3,
   "id": "54e6cf72",
   "metadata": {},
   "outputs": [],
   "source": [
    "\n",
    "df['MES'] = df['CRIMEN_FECHA'].dt.month\n",
    "df['DIA_SEMANA'] = df['CRIMEN_FECHA'].dt.dayofweek\n",
    "df['ES_FIN_DE_SEMANA'] = df['DIA_SEMANA'].isin([5, 6]).astype(int)\n",
    "df['TEMPORADA_ALTA'] = df['MES'].isin([12, 1]).astype(int)\n"
   ]
  },
  {
   "cell_type": "code",
   "execution_count": 4,
   "id": "4160599c",
   "metadata": {},
   "outputs": [],
   "source": [
    "\n",
    "features = [\n",
    "    'VICTIMA_TIPO',\n",
    "    'VICTIMA_GRUPO_ETARIO',\n",
    "    'VICTIMA_NACIONALIDAD',\n",
    "    'LUGAR_PROVINCIA',\n",
    "    'LUGAR_CANTON',\n",
    "    'LUGAR_DISTRITO',\n",
    "    'MES',\n",
    "    'DIA_SEMANA',\n",
    "    'ES_FIN_DE_SEMANA',\n",
    "    'TEMPORADA_ALTA'\n",
    "]\n",
    "\n",
    "X = df[features]\n",
    "y = df['CRIMEN_TIPO']\n"
   ]
  },
  {
   "cell_type": "code",
   "execution_count": null,
   "id": "f177e879",
   "metadata": {},
   "outputs": [],
   "source": [
    "\n",
    "cat_cols = X.select_dtypes(include='object').columns.tolist()\n",
    "\n",
    "preprocessor = ColumnTransformer(\n",
    "    transformers=[('cat', OneHotEncoder(handle_unknown='ignore'), cat_cols)],\n",
    "    remainder='passthrough'\n",
    ")\n",
    "\n",
    "X_encoded = preprocessor.fit_transform(X)\n"
   ]
  },
  {
   "cell_type": "code",
   "execution_count": null,
   "id": "0edf6054",
   "metadata": {},
   "outputs": [],
   "source": [
    "\n",
    "X_train, X_test, y_train, y_test = train_test_split(X_encoded, y, test_size=0.3, random_state=42)\n",
    "\n",
    "model = RandomForestClassifier(class_weight='balanced', random_state=42)\n",
    "model.fit(X_train, y_train)\n",
    "preds = model.predict(X_test)\n",
    "\n",
    "print(\"F1 promedio:\", cross_val_score(model, X_encoded, y, cv=5, scoring='f1_weighted').mean())\n",
    "print(classification_report(y_test, preds))\n"
   ]
  },
  {
   "cell_type": "code",
   "execution_count": null,
   "id": "65f44e24",
   "metadata": {},
   "outputs": [],
   "source": [
    "\n",
    "cm = confusion_matrix(y_test, preds, labels=model.classes_)\n",
    "disp = ConfusionMatrixDisplay(confusion_matrix=cm, display_labels=model.classes_)\n",
    "disp.plot(xticks_rotation=45)\n",
    "plt.tight_layout()\n",
    "plt.show()\n"
   ]
  },
  {
   "cell_type": "code",
   "execution_count": null,
   "id": "69fe7c2d",
   "metadata": {},
   "outputs": [],
   "source": [
    "\n",
    "importances = model.feature_importances_\n",
    "feature_names = preprocessor.get_feature_names_out()\n",
    "feat_imp = pd.Series(importances, index=feature_names)\n",
    "feat_imp.nlargest(20).plot(kind='barh', figsize=(8,6), title='Top 20 Features')\n",
    "plt.tight_layout()\n",
    "plt.show()\n"
   ]
  },
  {
   "cell_type": "code",
   "execution_count": null,
   "id": "ebb91ad9-22d9-47f7-9dc0-106879ad9223",
   "metadata": {},
   "outputs": [],
   "source": []
  },
  {
   "cell_type": "code",
   "execution_count": null,
   "id": "db53cfe5-b076-4c94-b4c8-7c6987fb39c8",
   "metadata": {},
   "outputs": [],
   "source": []
  }
 ],
 "metadata": {
  "kernelspec": {
   "display_name": "Python 3 (ipykernel)",
   "language": "python",
   "name": "python3"
  },
  "language_info": {
   "codemirror_mode": {
    "name": "ipython",
    "version": 3
   },
   "file_extension": ".py",
   "mimetype": "text/x-python",
   "name": "python",
   "nbconvert_exporter": "python",
   "pygments_lexer": "ipython3",
   "version": "3.11.0"
  }
 },
 "nbformat": 4,
 "nbformat_minor": 5
}
